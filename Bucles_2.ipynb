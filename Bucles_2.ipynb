{
  "nbformat": 4,
  "nbformat_minor": 0,
  "metadata": {
    "colab": {
      "provenance": [],
      "authorship_tag": "ABX9TyMqz3fTpxPB4OvEyD5U8WS6",
      "include_colab_link": true
    },
    "kernelspec": {
      "name": "python3",
      "display_name": "Python 3"
    },
    "language_info": {
      "name": "python"
    }
  },
  "cells": [
    {
      "cell_type": "markdown",
      "metadata": {
        "id": "view-in-github",
        "colab_type": "text"
      },
      "source": [
        "<a href=\"https://colab.research.google.com/github/Rmianm/Modulos-de-Repaso-Python/blob/master/Bucles_2.ipynb\" target=\"_parent\"><img src=\"https://colab.research.google.com/assets/colab-badge.svg\" alt=\"Open In Colab\"/></a>"
      ]
    },
    {
      "cell_type": "code",
      "execution_count": null,
      "metadata": {
        "id": "Y-p923FGkUDh"
      },
      "outputs": [],
      "source": [
        "#1 \n",
        "N = int(input())\n",
        "for i in range(1,21):\n",
        "  print(f\"{N} x {i} = {N*i}\")"
      ]
    },
    {
      "cell_type": "code",
      "source": [
        "#2\n",
        "X = float(input())\n",
        "personas = 0\n",
        "while X >=10:\n",
        "  X = X/2\n",
        "  personas+=1\n",
        "print(personas)"
      ],
      "metadata": {
        "id": "WaWVLy74k-hE"
      },
      "execution_count": null,
      "outputs": []
    },
    {
      "cell_type": "code",
      "source": [
        "#3\n",
        "lotes = int(input())\n",
        "lado = float(input())\n",
        "incremento = float(input())\n",
        "area_total = lado**2\n",
        "\n",
        "for e in range(1,lotes):\n",
        "  lado = (lado+incremento)\n",
        "  nueva_area = lado**2\n",
        "  area_total += nueva_area\n",
        "print(f\"El área total es de {area_total} metros cuadrados\")"
      ],
      "metadata": {
        "id": "C_2hN2u_ofcw"
      },
      "execution_count": null,
      "outputs": []
    },
    {
      "cell_type": "code",
      "source": [
        "#4\n",
        "telaraña = float(input())\n",
        "elefantes = int(input())\n",
        "lista = []\n",
        "for e in range(elefantes):\n",
        "  N = float(input())\n",
        "  lista.append(N)\n",
        "cantidad_elef = 0\n",
        "lista.sort()\n",
        "for e in lista:\n",
        "  telaraña = telaraña - e\n",
        "  if telaraña >= 0:\n",
        "    cantidad_elef += 1\n",
        "print(cantidad_elef)"
      ],
      "metadata": {
        "id": "pHNcW6efslRJ"
      },
      "execution_count": null,
      "outputs": []
    },
    {
      "cell_type": "code",
      "source": [
        "#5\n",
        "N = input()\n",
        "print(int(N[0]+N[-1]))"
      ],
      "metadata": {
        "id": "oPf4reSRytux"
      },
      "execution_count": null,
      "outputs": []
    },
    {
      "cell_type": "code",
      "source": [
        "#6\n",
        "L = int(input())\n",
        "H = int(input())\n",
        "for e in range(H):\n",
        "  if e != H//2:\n",
        "     print('0'*(L//2),'+','0'*(L//2),sep='')\n",
        "  else:\n",
        "    print('+'*L)"
      ],
      "metadata": {
        "id": "ieihiD4NtPds"
      },
      "execution_count": null,
      "outputs": []
    },
    {
      "cell_type": "code",
      "source": [
        "#7\n",
        "A = int(input())\n",
        "P = int(input())\n",
        "Q = int(input())\n",
        "A_copia = A\n",
        "result = f'{A_copia} es polifactor entre {P} y {Q}'\n",
        "for e in range(P,Q+1):\n",
        "  if A%e != 0:\n",
        "    result = f'{A_copia} no es polifactor entre {P} y {Q}'\n",
        "    break\n",
        "  A = A/e\n",
        "print(result)"
      ],
      "metadata": {
        "id": "mNg3P5802Zpc"
      },
      "execution_count": null,
      "outputs": []
    },
    {
      "cell_type": "code",
      "source": [
        "#8\n",
        "N = int(input())\n",
        "suma = 0\n",
        "for e in range(1,N+1):\n",
        "  numero = float(input())\n",
        "  resultado = numero*e-suma\n",
        "  print(resultado)\n",
        "  suma += resultado"
      ],
      "metadata": {
        "id": "XATCLEpwGKIU"
      },
      "execution_count": null,
      "outputs": []
    }
  ]
}