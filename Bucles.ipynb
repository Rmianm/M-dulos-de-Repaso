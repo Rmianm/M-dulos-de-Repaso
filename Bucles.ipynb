{
  "nbformat": 4,
  "nbformat_minor": 0,
  "metadata": {
    "colab": {
      "provenance": [],
      "authorship_tag": "ABX9TyPjJrG5Oq73blyRvd4Ikd5K",
      "include_colab_link": true
    },
    "kernelspec": {
      "name": "python3",
      "display_name": "Python 3"
    },
    "language_info": {
      "name": "python"
    }
  },
  "cells": [
    {
      "cell_type": "markdown",
      "metadata": {
        "id": "view-in-github",
        "colab_type": "text"
      },
      "source": [
        "<a href=\"https://colab.research.google.com/github/Rmianm/Modulos-de-Repaso-Python/blob/master/Bucles.ipynb\" target=\"_parent\"><img src=\"https://colab.research.google.com/assets/colab-badge.svg\" alt=\"Open In Colab\"/></a>"
      ]
    },
    {
      "cell_type": "code",
      "execution_count": null,
      "metadata": {
        "id": "YFD9PdtqhIXT"
      },
      "outputs": [],
      "source": [
        "#1\n",
        "tarifa = int(input())\n",
        "horas = int(input())\n",
        "\n",
        "if horas <=45:\n",
        "  print('$ ', horas*tarifa)\n",
        "else:\n",
        "  salario = 45*tarifa\n",
        "  extra = (tarifa*0.50+tarifa)*(horas-45)\n",
        "  print('$ ',int(salario+extra))"
      ]
    },
    {
      "cell_type": "code",
      "source": [
        "#2\n",
        "import matplotlib.pyplot as plt\n",
        "\n",
        "x = float(input())\n",
        "y = float(input())\n",
        "\n",
        "if x == 0 and (y>0 or y<0):\n",
        "  print(f'La coordenada {(x,y)} se encuentra en el eje y ')\n",
        "elif y == 0 and (x>0 or x<0):\n",
        "  print(f'La coordenada {(x,y)} se encuentra en el eje x ')\n",
        "elif y > 0:\n",
        "  if x >0:\n",
        "    print(f'La coordenada {(x,y)} se encuentra en el cuadrante 1 ')\n",
        "  else:\n",
        "    print(f'La coordenada {(x,y)} se encuentra en el cuadrante 2 ' )\n",
        "elif y < 0:\n",
        "  if x >0:\n",
        "    print(f'La coordenada {(x,y)} se encuentra en el cuadrante 4 ')\n",
        "  else:\n",
        "    print(f'La coordenada {(x,y)} se encuentra en el cuadrante 3 ' )\n",
        "else:\n",
        "  print(f'La coordenada {(x,y)} se encuentra en el origen')\n",
        "\n",
        "plt.plot(x,y,'o',markersize=6,color='c')\n",
        "\n",
        "plt.setp(plt.gca(),ylim=(-10,10))\n",
        "plt.xlim(-10,10)\n",
        "plt.grid()\n",
        "plt.title(\"Punto Cartesiano\")\n",
        "plt.ylabel(\"Eje Y\")\n",
        "plt.xlabel(\"Eje X\")\n",
        "plt.show()"
      ],
      "metadata": {
        "id": "806WPurEBJK-"
      },
      "execution_count": null,
      "outputs": []
    },
    {
      "cell_type": "markdown",
      "source": [
        "##Diferentes maneras de hacer el ejercicio 3"
      ],
      "metadata": {
        "id": "mDlSbn2loO0k"
      }
    },
    {
      "cell_type": "code",
      "source": [
        "#3\n",
        "import numpy as np\n",
        "datos = int(input())\n",
        "lista = []\n",
        "for e in range(datos):\n",
        "  numero = float(input())\n",
        "  lista.append(numero)\n",
        "arreglo = np.array(lista)\n",
        "print(f\"{np.median(arreglo)} es la mediana\")"
      ],
      "metadata": {
        "id": "S7IawVwwM4az"
      },
      "execution_count": null,
      "outputs": []
    },
    {
      "cell_type": "code",
      "source": [
        "#3\n",
        "from statistics import median\n",
        "n_datos = int(input())\n",
        "lista = []\n",
        "for e in range(n_datos):\n",
        "  numero = float(input())\n",
        "  lista.append(numero)\n",
        "print(median(lista))"
      ],
      "metadata": {
        "id": "WTYBeV5GQkI3"
      },
      "execution_count": null,
      "outputs": []
    },
    {
      "cell_type": "code",
      "source": [
        "#3\n",
        "n_datos = int(input())\n",
        "lista = []\n",
        "for e in range(n_datos):\n",
        "  numero = float(input())\n",
        "  lista.append(numero)\n",
        "def median(mi_lista):\n",
        "  conjunto = sorted(mi_lista)\n",
        "  indice = len(conjunto)//2\n",
        "  if len(conjunto)%2 != 0:\n",
        "    return(conjunto[indice])\n",
        "  else:\n",
        "    return (conjunto[indice-1]+conjunto[indice]) /2\n",
        "median(lista)"
      ],
      "metadata": {
        "id": "u-NUljG4S7Hn"
      },
      "execution_count": null,
      "outputs": []
    },
    {
      "cell_type": "code",
      "source": [
        "#4\n",
        "hora = int(input())\n",
        "minutos = int(input())\n",
        "ap = input().lower()\n",
        "if ap == \"pm\":\n",
        "  if hora != 12:\n",
        "    faltante = ((12-hora)*60)-minutos\n",
        "    print(f'faltan {faltante} para las 12')\n",
        "  elif hora == 12:\n",
        "    faltante = 720-minutos\n",
        "    print(f'faltan {faltante} para las 12')\n",
        "elif ap == \"am\":\n",
        "  if hora != 12:\n",
        "    faltante=(720-(((12-hora)*60)-minutos))+720\n",
        "    print(f'faltan {faltante} para las 12')\n",
        "  elif hora == 12:\n",
        "    faltante = 1440 - minutos\n",
        "    print(f'faltan {faltante} para las 12')"
      ],
      "metadata": {
        "id": "74rjym1zX-Mx"
      },
      "execution_count": null,
      "outputs": []
    },
    {
      "cell_type": "code",
      "source": [
        "#5\n",
        "hora = int(input())\n",
        "minutos = int(input())\n",
        "if minutos != 0:\n",
        "  salida_minutos = 60 - minutos\n",
        "  salida_hora = 12 - hora - 1\n",
        "  if salida_hora == 0:\n",
        "    salida_hora = 12\n",
        "  elif salida_hora < 0:\n",
        "    salida_hora = 11\n",
        "  print(f'{salida_hora}:{salida_minutos}')\n",
        "else:\n",
        "  print(f'{hora}:{minutos}')"
      ],
      "metadata": {
        "id": "GaQeButIvXIl"
      },
      "execution_count": null,
      "outputs": []
    },
    {
      "cell_type": "code",
      "source": [
        "#6\n",
        "numero = int(input())\n",
        "primos = [2,3,5,7]\n",
        "for i in primos:\n",
        "  if numero%i ==0:\n",
        "    print(f'{numero} es multiplo de {i}')\n",
        "    break\n",
        "  if i == primos[-1]:\n",
        "    print(f'{numero} no es multiplo de ninguno de los primeros cuatro primos')\n",
        "   "
      ],
      "metadata": {
        "id": "b34nzaih7k4i"
      },
      "execution_count": null,
      "outputs": []
    },
    {
      "cell_type": "code",
      "source": [
        "#7\n",
        "def menu():\n",
        "  global X,Y\n",
        "  print('Menú')\n",
        "  print(\"----------------------\")\n",
        "  print('Opción 1: tijeras')\n",
        "  print('Opción 2: papel')\n",
        "  print('Opción 3: piedra\\n')\n",
        "\n",
        "  X = input(\"Participante X, elige tu opción(palabra): \\n\").lower()\n",
        "  Y = input(\"Participante Y, elige tu opción(palabra): \\n\").lower()\n",
        "\n",
        "menu()\n",
        "\n",
        "def decicion_final(X,Y):\n",
        "  if (X == \"tijeras\" and Y == \"papel\") or (X == \"piedra\" and Y == \"tijeras\") or (X == \"papel\" and Y == \"piedra\"):\n",
        "    return print(f\"{X} vence a {Y}\")\n",
        "  elif (Y == \"tijeras\" and X == \"papel\") or (Y == \"piedra\" and X == \"tijeras\") or (Y == \"papel\" and X == \"piedra\"):\n",
        "    print(f\"{Y} vence a {X}\")\n",
        "  else:\n",
        "    return print(\"Empate\")\n",
        "\n",
        "decicion_final(X,Y)"
      ],
      "metadata": {
        "id": "hAeWq1WX8yGs"
      },
      "execution_count": null,
      "outputs": []
    },
    {
      "cell_type": "code",
      "source": [
        "#8\n",
        "billetes = [50000,20000,10000,5000,2000,1000]\n",
        "cantidad_a_retirar = int(input())\n",
        "\n",
        "cuenta = 0\n",
        "for e in billetes:\n",
        "  while cantidad_a_retirar >= e:\n",
        "    cantidad_a_retirar = cantidad_a_retirar - e\n",
        "    cuenta += 1\n",
        "  if cuenta > 0:\n",
        "    print(f\"{cuenta} de {e}\")\n",
        "  cuenta = 0"
      ],
      "metadata": {
        "id": "NmjcyFlIG9a5"
      },
      "execution_count": null,
      "outputs": []
    }
  ]
}