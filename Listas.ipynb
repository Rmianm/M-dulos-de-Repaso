{
  "nbformat": 4,
  "nbformat_minor": 0,
  "metadata": {
    "colab": {
      "provenance": [],
      "authorship_tag": "ABX9TyM8tW/ae0vSqPTW8ePA4yz4",
      "include_colab_link": true
    },
    "kernelspec": {
      "name": "python3",
      "display_name": "Python 3"
    },
    "language_info": {
      "name": "python"
    }
  },
  "cells": [
    {
      "cell_type": "markdown",
      "metadata": {
        "id": "view-in-github",
        "colab_type": "text"
      },
      "source": [
        "<a href=\"https://colab.research.google.com/github/Rmianm/Modulos-de-Repaso-Python/blob/master/Listas.ipynb\" target=\"_parent\"><img src=\"https://colab.research.google.com/assets/colab-badge.svg\" alt=\"Open In Colab\"/></a>"
      ]
    },
    {
      "cell_type": "code",
      "execution_count": null,
      "metadata": {
        "id": "ee1JrF-ANR7_"
      },
      "outputs": [],
      "source": [
        "#1 \n",
        "N = int(input())\n",
        "dic = {'1':0,'2':0,'3':0,'4':0,'5':0}\n",
        "for e in range(N):\n",
        "  numero = int(input())\n",
        "  if numero == 1:\n",
        "    dic['1'] += 1\n",
        "  elif numero == 2:\n",
        "    dic['2'] += 1\n",
        "  elif numero == 3:\n",
        "    dic['3'] += 1\n",
        "  elif numero == 4:\n",
        "    dic['4'] += 1\n",
        "  elif numero == 5:\n",
        "    dic['5'] += 1\n",
        "    \n",
        "for i in range(1,len(dic)+1):\n",
        "  i = str(i)\n",
        "  print(f'{i}: {dic[i]}')"
      ]
    },
    {
      "cell_type": "code",
      "source": [
        "#2\n",
        "partidos = int(input())\n",
        "eq_1 = []\n",
        "eq_2 = []\n",
        "for e in range(partidos):\n",
        "  N = int(input())\n",
        "  eq_1.append(N)\n",
        "for e in range(partidos):\n",
        "  n = int(input())\n",
        "  eq_2.append(n)\n",
        "puntos_1= 0\n",
        "puntos_2= 0\n",
        "\n",
        "for i in range(partidos):\n",
        "  if eq_1[i] > eq_2[i]:\n",
        "    puntos_1 += 2\n",
        "  elif eq_2[i] > eq_1[i]:\n",
        "    puntos_2 += 2\n",
        "  elif eq_2[i] == eq_1[i]:\n",
        "    puntos_1 += 1\n",
        "    puntos_2 += 1\n",
        "\n",
        "print(f'Ballenotas Futbol Club: {puntos_1}')\n",
        "print(f'Real Madrid: {puntos_2}')"
      ],
      "metadata": {
        "id": "uxeY3hlwPJOh"
      },
      "execution_count": null,
      "outputs": []
    },
    {
      "cell_type": "code",
      "source": [
        "#3\n",
        "cromos = []\n",
        "cantidad = int(input())\n",
        "for e in range(cantidad):\n",
        "  N = int(input())\n",
        "  if N not in cromos:\n",
        "    cromos.append(N)\n",
        "print(len(cromos)-1)"
      ],
      "metadata": {
        "id": "U1wnpmV1Yy8s"
      },
      "execution_count": null,
      "outputs": []
    },
    {
      "cell_type": "code",
      "source": [
        "#4\n",
        "lista = []\n",
        "ciudadanos = int(input())\n",
        "for e in range(ciudadanos):\n",
        "  N = float(input())\n",
        "  lista.append(N)\n",
        "lista.sort()\n",
        "\n",
        "indice = (lista[-3]-lista[3])/(len(lista)-1)**2\n",
        "print(round(indice,2))\n"
      ],
      "metadata": {
        "id": "dPgBzQcFFbOG"
      },
      "execution_count": null,
      "outputs": []
    },
    {
      "cell_type": "code",
      "source": [
        "#5\n",
        "\n",
        "cant_soldados = int(input())\n",
        "bando_1 = []\n",
        "bando_2 = []\n",
        "for i in range(cant_soldados):\n",
        "  N = int(input())\n",
        "  bando_1.append(N)\n",
        "for i in range(cant_soldados):\n",
        "  N = int(input())\n",
        "  bando_2.append(N)\n",
        "\n",
        "sobrevivientes = 0\n",
        "for e in range(len(bando_1)):\n",
        "  if (bando_1[e]%2 == 0 and bando_2[e]%2 == 0) or (bando_1[e]%2 != 0 and bando_2[e]%2 != 0):\n",
        "    continue\n",
        "  elif (bando_1[e]%2 == 0 and bando_2[e]%2 != 0) or (bando_1[e]%2 != 0 and bando_2[e]%2 == 0):\n",
        "    sobrevivientes += 1\n",
        "\n",
        "print(f'Sobreviven {sobrevivientes} soldados')"
      ],
      "metadata": {
        "id": "R79f6zzrK_SY"
      },
      "execution_count": null,
      "outputs": []
    },
    {
      "cell_type": "code",
      "source": [
        "#6\n",
        "M = int(input())\n",
        "\n",
        "ganadores = []\n",
        "\n",
        "for i in range(M):\n",
        "  M = int(input())\n",
        "  ganadores.append(M)\n",
        "\n",
        "dic = {}\n",
        "for e in ganadores:\n",
        "  if e not in dic:\n",
        "    dic[e] = 1\n",
        "  else:\n",
        "    dic[e] += 1\n",
        "\n",
        "maxi = max(dic.values())\n",
        "for i in dic:\n",
        "  if dic.get(i) == maxi:\n",
        "    print(i)"
      ],
      "metadata": {
        "id": "YeFcUftOQN-d"
      },
      "execution_count": null,
      "outputs": []
    },
    {
      "cell_type": "code",
      "source": [
        "#7\n",
        "n = int(input())\n",
        "\n",
        "for e in range(n):\n",
        "  N = int(input())\n",
        "  restador = 1\n",
        "  while N >0:\n",
        "    N = N-restador\n",
        "    restador+= 1\n",
        "  if N == 0:\n",
        "    print('Puede ser un racimo ideal')\n",
        "  else:\n",
        "    print('No puede ser un racimo ideal') "
      ],
      "metadata": {
        "id": "2KJoFgQCSjwR"
      },
      "execution_count": null,
      "outputs": []
    },
    {
      "cell_type": "code",
      "source": [
        "#8\n",
        "N = int(input())\n",
        "lista = []\n",
        "for e in range(1,N):\n",
        "  ficha = int(input())\n",
        "  lista.append(ficha)\n",
        "lista.sort()\n",
        "lista_2 = list(range(1,11))\n",
        "\n",
        "for e in range(len(lista)):\n",
        "  if lista[e] == lista_2[e]:\n",
        "    continue\n",
        "  else:\n",
        "    print(f'la fecha faltante es {lista_2[e]}')\n",
        "  break"
      ],
      "metadata": {
        "id": "wvLQwfoFTcYv"
      },
      "execution_count": null,
      "outputs": []
    },
    {
      "cell_type": "code",
      "source": [
        "#9\n",
        "N = int(input())\n",
        "lista = []\n",
        "for e in range(N):\n",
        "  id = int(input())\n",
        "  lista.append(id)\n",
        "parejas_ganadoras = 0\n",
        "\n",
        "e = 1\n",
        "while len(lista) > 1:\n",
        "  if lista[0] + lista[e] == 1995:\n",
        "    parejas_ganadoras += 1\n",
        "    lista.remove(lista[e])\n",
        "    e = 0\n",
        "  elif e == len(lista)-1:\n",
        "    lista.remove(lista[0])\n",
        "    e=0\n",
        "  e+=1\n",
        "\n",
        "print(parejas_ganadoras)"
      ],
      "metadata": {
        "id": "h9N3FcFTafZM"
      },
      "execution_count": null,
      "outputs": []
    }
  ]
}