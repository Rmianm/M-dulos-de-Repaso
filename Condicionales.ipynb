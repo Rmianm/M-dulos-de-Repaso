{
  "nbformat": 4,
  "nbformat_minor": 0,
  "metadata": {
    "colab": {
      "provenance": [],
      "authorship_tag": "ABX9TyPNSwjQczGgK4VT26WBna3c",
      "include_colab_link": true
    },
    "kernelspec": {
      "name": "python3",
      "display_name": "Python 3"
    },
    "language_info": {
      "name": "python"
    }
  },
  "cells": [
    {
      "cell_type": "markdown",
      "metadata": {
        "id": "view-in-github",
        "colab_type": "text"
      },
      "source": [
        "<a href=\"https://colab.research.google.com/github/Rmianm/M-dulos-de-Repaso/blob/master/Condicionales.ipynb\" target=\"_parent\"><img src=\"https://colab.research.google.com/assets/colab-badge.svg\" alt=\"Open In Colab\"/></a>"
      ]
    },
    {
      "cell_type": "code",
      "execution_count": null,
      "metadata": {
        "id": "seb6qEy79aBN"
      },
      "outputs": [],
      "source": [
        "\n",
        "#1\n",
        "N = int(input('Digite un número: '))\n",
        "if N%2==0:\n",
        "  print(f\"{N}x2: {N*2}\")\n",
        "else:\n",
        "  print(f\"{N}x3: {N*3}\")\n"
      ]
    },
    {
      "cell_type": "code",
      "source": [
        "#2\n",
        "edad = int(input())\n",
        "if edad < 18:\n",
        "  print(f\"Tienes {edad} lo siento pero no puedes hacer lo que quieras\")\n",
        "else:\n",
        "  print(f\"Tienes {edad} sigues sin poder hacer lo que quieras pero ademas tienes obligaciones\")\n"
      ],
      "metadata": {
        "id": "1HE3gQvO-jmQ"
      },
      "execution_count": null,
      "outputs": []
    },
    {
      "cell_type": "code",
      "source": [
        "#3\n",
        "calle =  int(input())\n",
        "casa = int(input())\n",
        "if casa or calle %(13 or 23)==0:\n",
        "  print(f\"La direccion calle {calle} # {casa} esta prohibida\")\n",
        "else:\n",
        "  print(f\"La direccion calle {calle} # {casa} no esta prohibida\")"
      ],
      "metadata": {
        "id": "3q799d8I_bfM"
      },
      "execution_count": null,
      "outputs": []
    },
    {
      "cell_type": "code",
      "source": [
        "#4\n",
        "x =  float(input())\n",
        "if x > 10:\n",
        "  print(x+5)\n",
        "  print(x-8)\n",
        "else:\n",
        "  print(x+5)"
      ],
      "metadata": {
        "id": "hdhgoNIKCJ9R"
      },
      "execution_count": null,
      "outputs": []
    },
    {
      "cell_type": "code",
      "source": [
        "#5\n",
        "total_compra = int(input())\n",
        "efectivo = int(input())\n",
        "\n",
        "cambio = efectivo -total_compra\n",
        "if cambio%10 == 0 or cambio%15 == 0 :\n",
        "  if cambio%4==0:\n",
        "    print(cambio)\n",
        "  else:\n",
        "    print(cambio)\n",
        "    print('y te lo puedes quedar')\n",
        "else:\n",
        "  print(cambio)"
      ],
      "metadata": {
        "id": "0Y_zFU4xCl3e"
      },
      "execution_count": null,
      "outputs": []
    },
    {
      "cell_type": "code",
      "source": [
        "#6\n",
        "c = int(input('Ingrese el capital inicial: '))\n",
        "k =int(input('Ingrese el retorno: '))\n",
        "x = k-c\n",
        "y = (x/c)*100\n",
        "if k > c:\n",
        "  print(f'Hubo una ganancia de $ {x} correspondiente al {y}% del capital invertido')\n",
        "elif k < c:\n",
        "  print(f'Hubo una perdida de $ {abs(x)} correspondiente al {abs(y)}% del capital invertido')\n",
        "else:\n",
        "  print('No hubo ni ganancia ni perdida, la inversion fue un desperdicio de tiempo, pero al menos no de dinero')\n",
        "\n"
      ],
      "metadata": {
        "id": "JK5G64PnHUgi"
      },
      "execution_count": null,
      "outputs": []
    },
    {
      "cell_type": "code",
      "source": [
        "#7\n",
        "n = int(input())\n",
        "if n%3 != 0:\n",
        "  if n%2==0:\n",
        "    print(f\"El numero {n} no es multiplo de 3, pero si le suma 1 el resultado si lo es. Y el numero 3 es el mejor\")\n",
        "  elif n%2 != 0:\n",
        "    print(f\"El numero {n} no es multiplo de 3, pero si le restas 1 el resultado si lo es. Y el numero 3 es el mejor\")\n",
        "elif n%3 ==0:\n",
        "  print(f'El numero {n} es multiplo de 3. Y el numero 3 es el mejor')\n",
        "else:\n",
        "  print('El numero 3 es el mejor')\n"
      ],
      "metadata": {
        "id": "3HccvpJwS9jv"
      },
      "execution_count": null,
      "outputs": []
    },
    {
      "cell_type": "code",
      "source": [
        "#8\n",
        "x = float(input())\n",
        "if x >= 90:\n",
        "  print(f\"El porcentaje {x} corresponde a la calificacion A\")\n",
        "elif 80<=x<90:\n",
        "  print(f\"El porcentaje {x} corresponde a la calificacion B\")\n",
        "elif 70<=x<80:\n",
        "  print(f\"El porcentaje {x} corresponde a la calificacion C\")\n",
        "elif 60<=x<70:\n",
        "  print(f\"El porcentaje {x} corresponde a la calificacion D\")\n",
        "elif 40<=x<60:\n",
        "  print(f\"El porcentaje {x} corresponde a la calificacion E\")\n",
        "elif x<40:\n",
        "  print(f\"El porcentaje {x} corresponde a la calificacion F\")"
      ],
      "metadata": {
        "id": "vR3DSgD_bBea"
      },
      "execution_count": null,
      "outputs": []
    }
  ]
}